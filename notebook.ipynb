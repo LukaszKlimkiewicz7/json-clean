{
 "cells": [
  {
   "cell_type": "code",
   "execution_count": 79,
   "metadata": {},
   "outputs": [],
   "source": [
    "import json\n",
    "import html\n",
    "from copy import deepcopy\n",
    "from bs4 import BeautifulSoup, Comment"
   ]
  },
  {
   "cell_type": "code",
   "execution_count": 80,
   "metadata": {},
   "outputs": [],
   "source": [
    "FILENAME = 'keyword-database-export.json'\n",
    "PARSER = 'html.parser'"
   ]
  },
  {
   "cell_type": "code",
   "execution_count": 81,
   "metadata": {},
   "outputs": [],
   "source": [
    "# Reading json\n",
    "with open(FILENAME) as file:\n",
    "    content = file.read()\n",
    "    whole_json = json.loads(content)"
   ]
  },
  {
   "cell_type": "code",
   "execution_count": 82,
   "metadata": {},
   "outputs": [
    {
     "name": "stdout",
     "output_type": "stream",
     "text": [
      "all: 1505\n",
      "word: 89\n",
      "standard: 1416\n"
     ]
    }
   ],
   "source": [
    "# Sorting definitions for tests\n",
    "definitions = [entry['definition'] for entry in whole_json.values() if 'definition' in entry]\n",
    "word_definitions = [definition for definition in definitions if 'OfficeDocumentSettings' in definition]\n",
    "standard_definitions = [definition for definition in definitions if 'OfficeDocumentSettings' not in definition]\n",
    "\n",
    "print('all:', len(definitions))\n",
    "print('word:', len(word_definitions))\n",
    "print('standard:', len(standard_definitions))"
   ]
  },
  {
   "cell_type": "code",
   "execution_count": 83,
   "metadata": {},
   "outputs": [
    {
     "name": "stdout",
     "output_type": "stream",
     "text": [
      "em tbody strong u h3 h4 img tr div sub sup ul header p span li thead ol th td table h2 br a\n"
     ]
    }
   ],
   "source": [
    "# Extracting all possible tags\n",
    "all_tags = set()\n",
    "\n",
    "for definition in definitions:\n",
    "    soup = BeautifulSoup(definition, PARSER)\n",
    "    for tag in soup.find_all():\n",
    "        all_tags.add(tag.name)\n",
    "\n",
    "print(' '.join(all_tags))"
   ]
  },
  {
   "cell_type": "code",
   "execution_count": 84,
   "metadata": {},
   "outputs": [
    {
     "name": "stdout",
     "output_type": "stream",
     "text": [
      "id target src cellspacing height href class alt valign rel width type border title colspan scope style cellpadding start align lang\n"
     ]
    }
   ],
   "source": [
    "# Extracting all possible tags attributes\n",
    "all_attrs = set()\n",
    "\n",
    "for definition in definitions:\n",
    "    soup = BeautifulSoup(definition, PARSER)\n",
    "    for tag in soup.find_all():\n",
    "        all_attrs.update(list(tag.attrs))\n",
    "\n",
    "print(' '.join(all_attrs))"
   ]
  },
  {
   "cell_type": "code",
   "execution_count": 85,
   "metadata": {},
   "outputs": [],
   "source": [
    "# Specify legal elements - other will be removed\n",
    "legal_tags = all_tags - {'span'}    # spans doesn't make any difference without styles\n",
    "legal_attrs = {'rel', 'width', 'scope', 'height', 'src', 'href', 'alt', 'type', 'colspan'}"
   ]
  },
  {
   "cell_type": "code",
   "execution_count": 86,
   "metadata": {},
   "outputs": [
    {
     "name": "stdout",
     "output_type": "stream",
     "text": [
      "all tags    : em tbody strong u h3 h4 img tr div sub sup ul header p span li thead ol th td table h2 br a\n",
      "legal tags  : em tbody strong p sup u li thead ol th h3 h4 td img table h2 tr div br sub ul header a\n",
      "illegal tags: span\n",
      "----------\n",
      "all attrs    : id target src cellspacing height href class alt valign rel width type border title colspan scope style cellpadding start align lang\n",
      "legal attrs  : type height rel href alt colspan src scope width\n",
      "illegal attrs: border style id cellpadding lang start title class target align valign cellspacing\n"
     ]
    }
   ],
   "source": [
    "# Summary\n",
    "print('all tags    :', ' '.join(all_tags))\n",
    "print('legal tags  :', ' '.join(legal_tags))\n",
    "print('illegal tags:', ' '.join(all_tags - legal_tags))\n",
    "print('-'*10)\n",
    "print('all attrs    :', ' '.join(all_attrs))\n",
    "print('legal attrs  :', ' '.join(legal_attrs))\n",
    "print('illegal attrs:', ' '.join(all_attrs - legal_attrs))"
   ]
  },
  {
   "cell_type": "code",
   "execution_count": 87,
   "metadata": {},
   "outputs": [],
   "source": [
    "# cleaning code\n",
    "def clean_xml(xml_text):\n",
    "  xml = BeautifulSoup(xml_text, PARSER)\n",
    "  remove_comments(xml)\n",
    "  remove_illegal_tags(xml)\n",
    "  remove_illegal_attrs(xml)\n",
    "  remove_links_to_ids(xml)\n",
    "  return xml.encode(formatter='html').decode('utf-8').replace('\\n', '')\n",
    "\n",
    "def remove_comments(xml):\n",
    "  comments = xml.find_all(string=lambda text: isinstance(text, Comment))\n",
    "  for c in comments:\n",
    "    c.extract()\n",
    "\n",
    "def remove_illegal_tags(xml):\n",
    "  for tag in xml.find_all():\n",
    "    if tag.name not in legal_tags:\n",
    "      tag.unwrap()\n",
    "\n",
    "def remove_illegal_attrs(xml):\n",
    "  for tag in xml.find_all():\n",
    "    for attr in list(tag.attrs):\n",
    "      if attr not in legal_attrs:\n",
    "        del tag[attr]\n",
    "\n",
    "def remove_links_to_ids(xml):\n",
    "  for link in xml.find_all('a'):\n",
    "    if link.attrs['href'].startswith('#'):\n",
    "      link.unwrap()"
   ]
  },
  {
   "cell_type": "code",
   "execution_count": null,
   "metadata": {},
   "outputs": [],
   "source": [
    "# test\n",
    "print(clean_xml(standard_definitions[0]))"
   ]
  },
  {
   "cell_type": "code",
   "execution_count": null,
   "metadata": {},
   "outputs": [],
   "source": [
    "# test\n",
    "print(clean_xml(word_definitions[0]))"
   ]
  },
  {
   "cell_type": "code",
   "execution_count": 90,
   "metadata": {},
   "outputs": [],
   "source": [
    "# Saving cleaned json\n",
    "OUTPUT_FILENAME = 'keyword-cleaned.json'\n",
    "\n",
    "# process\n",
    "cleaned_json = deepcopy(whole_json)\n",
    "for entry in cleaned_json.values():\n",
    "    if 'definition' in entry:\n",
    "        entry['definition'] = clean_xml(entry['definition'])\n",
    "\n",
    "# save\n",
    "json_text = json.dumps(cleaned_json, indent=2)\n",
    "with open(OUTPUT_FILENAME, 'w') as file:\n",
    "    file.write(json_text)"
   ]
  },
  {
   "cell_type": "code",
   "execution_count": 91,
   "metadata": {},
   "outputs": [],
   "source": [
    "# Saving list of definitions in txt file - easy to search for errors\n",
    "OUTPUT_FILENAME = 'cleaned-definitions-list.txt'\n",
    "\n",
    "# process\n",
    "cleaned_definitions = []\n",
    "for entry in whole_json.values():\n",
    "    if 'definition' in entry:\n",
    "        cleaned_definitions.append(clean_xml(entry['definition']))\n",
    "\n",
    "# save\n",
    "with open(OUTPUT_FILENAME, 'w') as file:\n",
    "    for definition in cleaned_definitions:\n",
    "        if len(definition) == 0:\n",
    "            continue\n",
    "        file.write(definition)\n",
    "        file.write('\\n\\n')"
   ]
  }
 ],
 "metadata": {
  "kernelspec": {
   "display_name": "Python 3.9.13 ('base')",
   "language": "python",
   "name": "python3"
  },
  "language_info": {
   "codemirror_mode": {
    "name": "ipython",
    "version": 3
   },
   "file_extension": ".py",
   "mimetype": "text/x-python",
   "name": "python",
   "nbconvert_exporter": "python",
   "pygments_lexer": "ipython3",
   "version": "3.9.13"
  },
  "orig_nbformat": 4,
  "vscode": {
   "interpreter": {
    "hash": "6db0e086e85e4b08c86d1c12e84928148ae7d9ccc6445ab2c756ca9890ca0af7"
   }
  }
 },
 "nbformat": 4,
 "nbformat_minor": 2
}
